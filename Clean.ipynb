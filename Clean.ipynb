{
 "cells": [
  {
   "cell_type": "code",
   "execution_count": 1,
   "metadata": {},
   "outputs": [],
   "source": [
    "import csv\n",
    "\n",
    "# Input and output file paths\n",
    "input_file = 'table-30-2019-20.csv'\n",
    "output_file = 'output.csv'\n",
    "\n",
    "# Function to filter rows with a non-blank 11th column\n",
    "def filter_rows(input_file, output_file):\n",
    "    with open(input_file, 'r', newline='') as infile, open(output_file, 'w', newline='') as outfile:\n",
    "        reader = csv.reader(infile)\n",
    "        writer = csv.writer(outfile)\n",
    "        \n",
    "        for row in reader:\n",
    "            if row and row[10].strip():  # Assuming 11th column is index 10 (0-based)\n",
    "                writer.writerow(row)\n",
    "\n",
    "if __name__ == '__main__':\n",
    "    filter_rows(input_file, output_file)\n"
   ]
  }
 ],
 "metadata": {
  "kernelspec": {
   "display_name": "base",
   "language": "python",
   "name": "python3"
  },
  "language_info": {
   "codemirror_mode": {
    "name": "ipython",
    "version": 3
   },
   "file_extension": ".py",
   "mimetype": "text/x-python",
   "name": "python",
   "nbconvert_exporter": "python",
   "pygments_lexer": "ipython3",
   "version": "3.10.9"
  },
  "orig_nbformat": 4
 },
 "nbformat": 4,
 "nbformat_minor": 2
}
